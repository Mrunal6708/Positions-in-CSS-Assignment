{
  "nbformat": 4,
  "nbformat_minor": 0,
  "metadata": {
    "colab": {
      "provenance": []
    },
    "kernelspec": {
      "name": "python3",
      "display_name": "Python 3"
    },
    "language_info": {
      "name": "python"
    }
  },
  "cells": [
    {
      "cell_type": "code",
      "execution_count": null,
      "metadata": {
        "id": "985Q9rnvvoja"
      },
      "outputs": [],
      "source": []
    },
    {
      "cell_type": "markdown",
      "source": [
        "#Explain the difference between Absolute and Relative positioning.\n",
        "-\n",
        "1. Relative Positioning (position: relative)\n",
        "The element is positioned relative to its normal position in the document flow.\n",
        "\n",
        "It does not remove the element from the normal flow — other elements still consider it to be in its original spot.\n",
        "\n",
        "You can use top, right, bottom, and left to move the element relative to where it would have been.\n",
        "\n",
        "2. Absolute Positioning (position: absolute)\n",
        "The element is removed from the normal document flow, meaning it won’t affect or be affected by other elements.\n",
        "\n",
        "It is positioned relative to the nearest positioned ancestor (i.e., the closest parent with position set to relative, absolute, or fixed).\n",
        "\n",
        "If no positioned ancestor exists, it will be positioned relative to the <html> element (the page itself).\n",
        "\n"
      ],
      "metadata": {
        "id": "1bQ7r4QzomEt"
      }
    }
  ]
}